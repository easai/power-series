{
 "cells": [
  {
   "cell_type": "markdown",
   "metadata": {},
   "source": [
    "## Laurant Expansion\n",
    "\n",
    "Laurent expansion, represents a complex function as a power series that includes terms of negative degree. Unlike Taylor series, which only considers positive powers, the Laurent series accounts for both positive and negative powers.\n",
    "\n",
    "$$\n",
    "f(z)=\\sum_{n=-\\infty}^{\\infty} a_n(z-c)^n\n",
    "$$\n",
    "\n",
    "The part of the series that contains negative powers is called the principal part.\n",
    "\n",
    "$$\n",
    "\\oint_C f(z)dz=\\sum_{n=-\\infty}^\\infty a_n\\oint_C (z-c)^ndz\n",
    "$$\n",
    "When $c$ is an isolated singularity, the following holds.\n",
    "$$\n",
    "\\oint_C (z-c)^n dz=\n",
    "\\begin{cases}\n",
    "2\\pi i & n=-1\\\\\n",
    "0 & n\\neq -1\n",
    "\\end{cases}\n",
    "$$\n",
    "\n",
    "$a_{-1}$ is called residue.\n",
    "\n",
    "$$\n",
    "a_{-1}={1\\over 2\\pi i}\\oint_C f(z)dz\n",
    "$$\n",
    "\n",
    "When the isolated singularity is nth pole,\n",
    "\n",
    "$$\n",
    "(z-c)^n f(z)=\\sum_{k=0}^\\infty a_{k-n}(z-c)^k\n",
    "$$\n",
    "and \n",
    "\n",
    "$$\n",
    "a_{-1}={1\\over (n-1)!}\\lim_{z\\to a}{d^{n-1}\\over dz^{n-1}}[(z-a)^n f(z)]\n",
    "$$\n",
    "\n",
    "\n"
   ]
  },
  {
   "cell_type": "code",
   "execution_count": 5,
   "metadata": {},
   "outputs": [
    {
     "data": {
      "text/latex": [
       "$\\displaystyle -1$"
      ],
      "text/plain": [
       "-1"
      ]
     },
     "execution_count": 5,
     "metadata": {},
     "output_type": "execute_result"
    }
   ],
   "source": [
    "from sympy import residue, I\n",
    "from sympy.abc import z\n",
    "\n",
    "residue(z**2/(z-I),z,I)"
   ]
  },
  {
   "cell_type": "code",
   "execution_count": 6,
   "metadata": {},
   "outputs": [
    {
     "data": {
      "text/latex": [
       "$\\displaystyle 1$"
      ],
      "text/plain": [
       "1"
      ]
     },
     "execution_count": 6,
     "metadata": {},
     "output_type": "execute_result"
    }
   ],
   "source": [
    "residue(1/(z*(z-1)**2),z,0)"
   ]
  },
  {
   "cell_type": "code",
   "execution_count": 7,
   "metadata": {},
   "outputs": [
    {
     "data": {
      "text/latex": [
       "$\\displaystyle -1$"
      ],
      "text/plain": [
       "-1"
      ]
     },
     "execution_count": 7,
     "metadata": {},
     "output_type": "execute_result"
    }
   ],
   "source": [
    "residue(1/(z*(z-1)**2),z,1)"
   ]
  }
 ],
 "metadata": {
  "kernelspec": {
   "display_name": "Python 3",
   "language": "python",
   "name": "python3"
  },
  "language_info": {
   "codemirror_mode": {
    "name": "ipython",
    "version": 3
   },
   "file_extension": ".py",
   "mimetype": "text/x-python",
   "name": "python",
   "nbconvert_exporter": "python",
   "pygments_lexer": "ipython3",
   "version": "3.11.0"
  }
 },
 "nbformat": 4,
 "nbformat_minor": 2
}
