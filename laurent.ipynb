{
 "cells": [
  {
   "cell_type": "markdown",
   "metadata": {},
   "source": [
    "## Laurant Expansion\n",
    "\n",
    "Laurent expansion, represents a complex function as a power series that includes terms of negative degree. Unlike Taylor series, which only considers positive powers, the Laurent series accounts for both positive and negative powers.\n",
    "\n",
    "$$\n",
    "f(z)=\\sum_{n=-\\infty}^{\\infty} a_n(z-c)^n\n",
    "$$\n",
    "\n",
    "The part of the series that contains negative powers is called the principal part.\n",
    "\n",
    "$$\n",
    "\\oint_C f(z)dz=\\sum_{n=-\\infty}^\\infty a_n\\oint_C (z-c)^ndz\n",
    "$$\n",
    "When $c$ is an isolated singularity, the following holds.\n",
    "$$\n",
    "\\oint_C (z-c)^n dz=\n",
    "\\begin{cases}\n",
    "2\\pi i & n=-1\\\\\n",
    "0 & n\\neq -1\n",
    "\\end{cases}\n",
    "$$\n",
    "\n",
    "$a_{-1}$ is called residue.\n",
    "\n",
    "$$\n",
    "\\begin{align*}\n",
    "a_{-1}=\\operatorname{Res}_{z=c} f(z)&={1\\over 2\\pi i}\\oint_C f(z)dz\\\\\n",
    "\\oint_C f(z)dz &= 2\\pi i\\cdot \\operatorname{Res}_{z=c}\n",
    "\\end{align*}\n",
    "$$\n",
    "\n",
    "When the isolated singularity is a pole of order $n$,\n",
    "\n",
    "$$\n",
    "(z-c)^n f(z)=\\sum_{k=0}^\\infty a_{k-n}(z-c)^k\n",
    "$$\n",
    "and \n",
    "\n",
    "$$\n",
    "\\operatorname{Res}_{z=c} f(z)={1\\over (n-1)!}\\lim_{z\\to c}{d^{n-1}\\over dz^{n-1}}[(z-c)^n f(z)]\n",
    "$$\n",
    "\n"
   ]
  },
  {
   "cell_type": "markdown",
   "metadata": {},
   "source": [
    "Let us calculate the integral over a circle centered at $i$ with radius 1.\n",
    "\n",
    "$$\n",
    "f(z)={z^2\\over (z-i)}\n",
    "$$\n",
    "\n",
    "This function has an isolated singularity at $z=i$ and the singularity is a pole of order 1.\n",
    "\n",
    "$$\n",
    "\\begin{align*}\n",
    "\\operatorname{Res}_{z=i} f(z)&=\\lim_{z\\to i}(z-i)\\cdot {z^2\\over (z-i)}=-1\\\\\n",
    "\\oint_C f(z)dz &= -2\\pi i\n",
    "\\end{align*}\n",
    "$$\n",
    "\n"
   ]
  },
  {
   "cell_type": "code",
   "execution_count": 1,
   "metadata": {},
   "outputs": [
    {
     "data": {
      "text/latex": [
       "$\\displaystyle -1$"
      ],
      "text/plain": [
       "-1"
      ]
     },
     "execution_count": 1,
     "metadata": {},
     "output_type": "execute_result"
    }
   ],
   "source": [
    "from sympy import residue, I\n",
    "from sympy.abc import z\n",
    "\n",
    "residue(z**2/(z-I),z,I)"
   ]
  },
  {
   "cell_type": "markdown",
   "metadata": {},
   "source": [
    "Let us calculate the integral over a circle centered at origin with radius 10.\n",
    "\n",
    "$$\n",
    "f(z)={1\\over z(z-1)^2}\n",
    "$$\n",
    "\n",
    "This function has an isolated singularity at $z=0$ and the singularity is a pole of order 1 and has another isolated singularity at $z=1$ and the singularity is a pole of order 2.\n",
    "$$\n",
    "\\operatorname{Res}_{z=0} f(z)=1\n",
    "$$\n",
    "$$\n",
    "\\operatorname{Res}_{z=1} f(z)=-1\n",
    "$$\n",
    "$$\n",
    "\\oint {1\\over z(z-1)^2} dz = 2\\pi i(1-1)=0\n",
    "$$"
   ]
  },
  {
   "cell_type": "code",
   "execution_count": 2,
   "metadata": {},
   "outputs": [
    {
     "data": {
      "text/latex": [
       "$\\displaystyle 1$"
      ],
      "text/plain": [
       "1"
      ]
     },
     "execution_count": 2,
     "metadata": {},
     "output_type": "execute_result"
    }
   ],
   "source": [
    "residue(1/(z*(z-1)**2),z,0)"
   ]
  },
  {
   "cell_type": "code",
   "execution_count": 3,
   "metadata": {},
   "outputs": [
    {
     "data": {
      "text/latex": [
       "$\\displaystyle -1$"
      ],
      "text/plain": [
       "-1"
      ]
     },
     "execution_count": 3,
     "metadata": {},
     "output_type": "execute_result"
    }
   ],
   "source": [
    "residue(1/(z*(z-1)**2),z,1)"
   ]
  },
  {
   "cell_type": "markdown",
   "metadata": {},
   "source": [
    "Let us calculate the integral over a half circle centered at origin with radius 10 in the positive plane.\n",
    "\n",
    "$$\n",
    "f(z)={z-2\\over (z^2+1)^2}\n",
    "$$\n",
    "\n",
    "This function has an isolated singularity at $z=i$ and the singularity is a pole of order 2.\n",
    "\n",
    "$$\n",
    "\\begin{align*}\n",
    "\\operatorname{Res}_{z=i} f(z)&=(z-i)^2\\cdot {z-2\\over (z^2+1)^2}\\\\\n",
    "&=\\lim_{z\\to i}{d\\over dz}{z-2\\over (z+i)^2}\\\\\n",
    "&=\\lim_{z\\to i}{(z+i)^2-2(z+i)(z-2)\\over (z+i)^4}\\\\\n",
    "&=-{1\\over 2i}\\\\\n",
    "\\oint_C f(z)dz &= 2\\pi i\\cdot -{1\\over 2i}\\\\\n",
    "&=-\\pi\n",
    "\\end{align*}\n",
    "$$\n",
    "\n"
   ]
  },
  {
   "cell_type": "code",
   "execution_count": 4,
   "metadata": {},
   "outputs": [
    {
     "data": {
      "text/latex": [
       "$\\displaystyle \\frac{i}{2}$"
      ],
      "text/plain": [
       "I/2"
      ]
     },
     "execution_count": 4,
     "metadata": {},
     "output_type": "execute_result"
    }
   ],
   "source": [
    "residue((z-2)/((z**2+1)**2),z,I)"
   ]
  },
  {
   "cell_type": "code",
   "execution_count": 5,
   "metadata": {},
   "outputs": [
    {
     "data": {
      "text/latex": [
       "$\\displaystyle - \\frac{2 \\left(z - 2\\right)}{\\left(z + i\\right)^{3}} + \\frac{1}{\\left(z + i\\right)^{2}}$"
      ],
      "text/plain": [
       "-2*(z - 2)/(z + I)**3 + (z + I)**(-2)"
      ]
     },
     "execution_count": 5,
     "metadata": {},
     "output_type": "execute_result"
    }
   ],
   "source": [
    "import sympy \n",
    "sympy.diff((z-2)/(z+I)**2,z)"
   ]
  }
 ],
 "metadata": {
  "kernelspec": {
   "display_name": "Python 3",
   "language": "python",
   "name": "python3"
  },
  "language_info": {
   "codemirror_mode": {
    "name": "ipython",
    "version": 3
   },
   "file_extension": ".py",
   "mimetype": "text/x-python",
   "name": "python",
   "nbconvert_exporter": "python",
   "pygments_lexer": "ipython3",
   "version": "3.11.0"
  }
 },
 "nbformat": 4,
 "nbformat_minor": 2
}
