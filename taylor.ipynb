{
 "cells": [
  {
   "cell_type": "markdown",
   "metadata": {},
   "source": [
    "# Taylor Expansion\n",
    "\n",
    "Using the same formula for real numbers, the Taylor expansion formula can be applied complex functions. A complex regular function can be expressed uniquely as following power series.\n",
    "\n",
    "$$\n",
    "f(z)=\\sum^\\infty_{n=0} {f^{(n)}(a)\\over n!}(z-a)^n\n",
    "$$\n",
    "\n",
    "Let us calculate the Taylor expansion of $ f(z)=e^z $ around $ z=1 $."
   ]
  },
  {
   "cell_type": "code",
   "execution_count": 1,
   "metadata": {},
   "outputs": [
    {
     "data": {
      "text/latex": [
       "$\\displaystyle e + e \\left(z - 1\\right) + \\frac{e \\left(z - 1\\right)^{2}}{2} + \\frac{e \\left(z - 1\\right)^{3}}{6} + \\frac{e \\left(z - 1\\right)^{4}}{24} + O\\left(\\left(z - 1\\right)^{5}; z\\rightarrow 1\\right)$"
      ],
      "text/plain": [
       "E + E*(z - 1) + E*(z - 1)**2/2 + E*(z - 1)**3/6 + E*(z - 1)**4/24 + O((z - 1)**5, (z, 1))"
      ]
     },
     "execution_count": 1,
     "metadata": {},
     "output_type": "execute_result"
    }
   ],
   "source": [
    "from sympy import symbols, series, exp, I\n",
    "\n",
    "z=symbols(\"z\")\n",
    "series(exp(z),z,1,5)"
   ]
  },
  {
   "cell_type": "markdown",
   "metadata": {},
   "source": [
    "Here is the case with $ f(z)={1\\over z-2i}$ around $ z=0 $."
   ]
  },
  {
   "cell_type": "code",
   "execution_count": 2,
   "metadata": {},
   "outputs": [
    {
     "data": {
      "text/latex": [
       "$\\displaystyle \\frac{i}{2} + \\frac{z}{4} - \\frac{i z^{2}}{8} - \\frac{z^{3}}{16} + \\frac{i z^{4}}{32} + O\\left(z^{5}\\right)$"
      ],
      "text/plain": [
       "I/2 + z/4 - I*z**2/8 - z**3/16 + I*z**4/32 + O(z**5)"
      ]
     },
     "execution_count": 2,
     "metadata": {},
     "output_type": "execute_result"
    }
   ],
   "source": [
    "series(1/(z-2*I),z,0,5)"
   ]
  },
  {
   "cell_type": "markdown",
   "metadata": {},
   "source": [
    "In case with non-regular function with isolated singularities, Laurent series can be used that include negative terms of the series.\n",
    "\n",
    "$$\n",
    "f(z)=\\sum^\\infty_{n=-\\infty} {f^{(n)}(a)\\over n!}(z-a)^n\n",
    "$$\n",
    "\n",
    "The `series()` function can be used for Laurent series. The following calculates the Laurent series of the function that includes the negative terms.\n",
    "\n",
    "$$\n",
    "f(z)={e^z\\over z^2}\n",
    "$$"
   ]
  },
  {
   "cell_type": "code",
   "execution_count": 3,
   "metadata": {},
   "outputs": [
    {
     "data": {
      "text/latex": [
       "$\\displaystyle \\frac{1}{z^{2}} + \\frac{1}{z} + \\frac{1}{2} + \\frac{z}{6} + \\frac{z^{2}}{24} + \\frac{z^{3}}{120} + \\frac{z^{4}}{720} + O\\left(z^{5}\\right)$"
      ],
      "text/plain": [
       "z**(-2) + 1/z + 1/2 + z/6 + z**2/24 + z**3/120 + z**4/720 + O(z**5)"
      ]
     },
     "execution_count": 3,
     "metadata": {},
     "output_type": "execute_result"
    }
   ],
   "source": [
    "z = symbols(\"z\")\n",
    "f = exp(z) / z**2\n",
    "series(f, z, 0, 5)"
   ]
  }
 ],
 "metadata": {
  "kernelspec": {
   "display_name": "Python 3",
   "language": "python",
   "name": "python3"
  },
  "language_info": {
   "codemirror_mode": {
    "name": "ipython",
    "version": 3
   },
   "file_extension": ".py",
   "mimetype": "text/x-python",
   "name": "python",
   "nbconvert_exporter": "python",
   "pygments_lexer": "ipython3",
   "version": "3.11.5"
  }
 },
 "nbformat": 4,
 "nbformat_minor": 2
}
