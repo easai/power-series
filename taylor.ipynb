{
 "cells": [
  {
   "cell_type": "markdown",
   "metadata": {},
   "source": [
    "# Taylor Expansion\n",
    "\n",
    "Using the same formula for real numbers, the Taylor expansion formula can be applied complex functions. A complex regular function can be expressed uniquely as following power series.\n",
    "\n",
    "$$\n",
    "f(z)=\\sum^\\infty_{n=0} {f^{(n)}(a)\\over n!}(z-a)^n\n",
    "$$\n",
    "\n",
    "Let us calculate the Taylor expansion of $ f(z)=e^z $ around $ z=1 $."
   ]
  },
  {
   "cell_type": "code",
   "execution_count": null,
   "metadata": {},
   "outputs": [],
   "source": [
    "from sympy import symbols, series, exp, I\n",
    "\n",
    "z=symbols(\"z\")\n",
    "series(exp(z),z,1,5)"
   ]
  },
  {
   "cell_type": "markdown",
   "metadata": {},
   "source": [
    "Let us calculate the Taylor expansion of $ f(z)=z^2 $ around $ z=i $."
   ]
  },
  {
   "cell_type": "code",
   "execution_count": null,
   "metadata": {},
   "outputs": [],
   "source": [
    "series(z**2,z,1,5)"
   ]
  },
  {
   "cell_type": "markdown",
   "metadata": {},
   "source": [
    "Here is the case with $ f(z)={1\\over z-2i}$ around $ z=0 $."
   ]
  },
  {
   "cell_type": "code",
   "execution_count": null,
   "metadata": {},
   "outputs": [],
   "source": [
    "series(1/(z-2*I),z,0,5)"
   ]
  },
  {
   "cell_type": "markdown",
   "metadata": {},
   "source": [
    "In case with non-regular function with isolated singularities, Laurent series can be used that include negative terms of the series.\n",
    "\n",
    "$$\n",
    "f(z)=\\sum^\\infty_{n=-\\infty} {f^{(n)}(a)\\over n!}(z-a)^n\n",
    "$$\n",
    "\n",
    "The `series()` function can be used for Laurent series. The following calculates the Laurent series of the function that includes the negative terms.\n",
    "\n",
    "$$\n",
    "f(z)={e^z\\over z^2}\n",
    "$$"
   ]
  },
  {
   "cell_type": "code",
   "execution_count": null,
   "metadata": {},
   "outputs": [],
   "source": [
    "z = symbols(\"z\")\n",
    "f = exp(z) / z**2\n",
    "series(f, z, 0, 5)"
   ]
  },
  {
   "cell_type": "markdown",
   "metadata": {},
   "source": [
    "Let us calculate the Laurent series of the following function using `series()`.\n",
    "\n",
    "$$\n",
    "f(z)={\\cos(z)\\over z^2}\n",
    "$$"
   ]
  },
  {
   "cell_type": "code",
   "execution_count": null,
   "metadata": {},
   "outputs": [],
   "source": [
    "from sympy import cos\n",
    "\n",
    "\n",
    "f=cos(z)/z**2\n",
    "series(f,z,0,5)"
   ]
  },
  {
   "cell_type": "markdown",
   "metadata": {},
   "source": [
    "The 'series()' does not calculate the following function.\n",
    "\n",
    "$$\n",
    "f(z)=e^{1\\over z}\n",
    "$$"
   ]
  },
  {
   "cell_type": "code",
   "execution_count": null,
   "metadata": {},
   "outputs": [],
   "source": [
    "f=exp(1/z)\n",
    "series(exp(z**-1),z,0,5)"
   ]
  }
 ],
 "metadata": {
  "kernelspec": {
   "display_name": "Python 3",
   "language": "python",
   "name": "python3"
  },
  "language_info": {
   "codemirror_mode": {
    "name": "ipython",
    "version": 3
   },
   "file_extension": ".py",
   "mimetype": "text/x-python",
   "name": "python",
   "nbconvert_exporter": "python",
   "pygments_lexer": "ipython3",
   "version": "3.11.0"
  }
 },
 "nbformat": 4,
 "nbformat_minor": 2
}
