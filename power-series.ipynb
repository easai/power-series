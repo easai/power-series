{
 "cells": [
  {
   "cell_type": "markdown",
   "metadata": {},
   "source": [
    "# Power Series"
   ]
  },
  {
   "cell_type": "code",
   "execution_count": 7,
   "metadata": {},
   "outputs": [
    {
     "name": "stdout",
     "output_type": "stream",
     "text": [
      "0\t1.00000000000000\t1.71828182845905\n",
      "1\t2.00000000000000\t0.718281828459045\n",
      "2\t2.50000000000000\t0.218281828459045\n",
      "3\t2.66666666666667\t0.0516151617923786\n",
      "4\t2.70833333333333\t0.00994849512571190\n",
      "5\t2.71666666666667\t0.00161516179237857\n",
      "6\t2.71805555555556\t0.000226272903489680\n",
      "7\t2.71825396825397\t0.0000278602050769814\n",
      "8\t2.71827876984127\t0.00000305861777539409\n",
      "9\t2.71828152557319\t3.02885852995501E-7\n",
      "2.71828182845905\n"
     ]
    }
   ],
   "source": [
    "import sympy \n",
    "from sympy import *\n",
    "\n",
    "x=1\n",
    "f=0\n",
    "for i in range(10):\n",
    "    f+=x**i/factorial(i)\n",
    "    err=abs(f-E)\n",
    "    print(f\"{i}\\t{N(f)}\\t{N(err)}\")\n",
    "print(N(E))"
   ]
  },
  {
   "cell_type": "markdown",
   "metadata": {},
   "source": []
  },
  {
   "cell_type": "code",
   "execution_count": 12,
   "metadata": {},
   "outputs": [
    {
     "name": "stdout",
     "output_type": "stream",
     "text": [
      "0\t1.00000000000000\t1.00000000000000\n",
      "2\t-0.233700550136170\t0.233700550136170\n",
      "4\t0.0199689577648782\t0.0199689577648782\n",
      "6\t-0.000894522998474775\t0.000894522998474775\n",
      "8\t0.0000247372763646520\t0.0000247372763646520\n",
      "10\t-4.64766008408616E-7\t4.64766008408616E-7\n",
      "12\t6.32146947320111E-9\t6.32146947320111E-9\n",
      "14\t-6.51336105907409E-11\t6.51336105907409E-11\n",
      "16\t5.26020559053867E-13\t5.26020559053867E-13\n",
      "18\t-3.41946101959546E-15\t3.41946101959546E-15\n",
      "0\n"
     ]
    }
   ],
   "source": [
    "x=pi/2\n",
    "f=0\n",
    "for i in range(10):\n",
    "    if i%2==0:\n",
    "        if i%4==0:\n",
    "            f+=x**i/factorial(i)\n",
    "        else:\n",
    "            f-=x**i/factorial(i)\n",
    "        err=abs(f-cos(x))\n",
    "        print(f\"{i}\\t{N(f)}\\t{N(err)}\")\n",
    "print(N(cos(x)))"
   ]
  },
  {
   "cell_type": "code",
   "execution_count": 13,
   "metadata": {},
   "outputs": [
    {
     "name": "stdout",
     "output_type": "stream",
     "text": [
      "0\t0\t1.00000000000000\n",
      "1\t1.57079632679490\t0.570796326794897\n",
      "2\t1.57079632679490\t0.570796326794897\n",
      "3\t0.924832229288650\t0.0751677707113496\n",
      "4\t0.924832229288650\t0.0751677707113496\n",
      "5\t1.00452485553482\t0.00452485553481741\n",
      "6\t1.00452485553482\t0.00452485553481741\n",
      "7\t0.999843101399499\t0.000156898600501277\n",
      "8\t0.999843101399499\t0.000156898600501277\n",
      "9\t1.00000354258429\t0.00000354258428608242\n",
      "1.00000000000000\n"
     ]
    }
   ],
   "source": [
    "x=pi/2\n",
    "f=0\n",
    "for i in range(10):\n",
    "    if i%4==1:\n",
    "        f+=x**i/factorial(i)\n",
    "    elif i%4==3:\n",
    "        f-=x**i/factorial(i)\n",
    "    err=abs(f-sin(x))\n",
    "    print(f\"{i}\\t{N(f)}\\t{N(err)}\")\n",
    "print(N(sin(x)))"
   ]
  }
 ],
 "metadata": {
  "kernelspec": {
   "display_name": "Python 3",
   "language": "python",
   "name": "python3"
  },
  "language_info": {
   "codemirror_mode": {
    "name": "ipython",
    "version": 3
   },
   "file_extension": ".py",
   "mimetype": "text/x-python",
   "name": "python",
   "nbconvert_exporter": "python",
   "pygments_lexer": "ipython3",
   "version": "3.11.5"
  }
 },
 "nbformat": 4,
 "nbformat_minor": 2
}
