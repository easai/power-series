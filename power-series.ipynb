{
 "cells": [
  {
   "cell_type": "markdown",
   "metadata": {},
   "source": [
    "# Power Series\n",
    "\n",
    "Here is an excellent lecture on the power series.\n",
    "[Power Series/Euler's Great Formula](https://www.youtube.com/watch?v=N4ceWhmXxcs)\n",
    "\n",
    "So how many terms would you need to get fairly accurate values?\n",
    "\n",
    "Let's start with the exponential function.\n",
    "$$\n",
    "e^x&=\\displaystyle \\sum_{k=0}^{\\infty} \\frac{x^{k}}{k!}\n",
    "&=1 + x + \\frac{x^{2}}{2} + \\frac{x^{3}}{6} + \\frac{x^{4}}{24} +\\cdots\n",
    "$$"
   ]
  },
  {
   "cell_type": "code",
   "execution_count": 96,
   "metadata": {},
   "outputs": [
    {
     "data": {
      "image/png": "[encoded data removed]",
      "text/latex": [
       "$\\displaystyle \\sum_{k=0}^{\\infty} \\frac{x^{k}}{k!}$"
      ],
      "text/plain": [
       "  ∞     \n",
       " ____   \n",
       " ╲      \n",
       "  ╲    k\n",
       "   ╲  x \n",
       "   ╱  ──\n",
       "  ╱   k!\n",
       " ╱      \n",
       " ‾‾‾‾   \n",
       "k = 0   "
      ]
     },
     "execution_count": 96,
     "metadata": {},
     "output_type": "execute_result"
    }
   ],
   "source": [
    "from sympy import Sum, factorial, oo, symbols\n",
    "from sympy.abc import k\n",
    "\n",
    "x = symbols(\"x\")\n",
    "f = Sum(x**k / factorial(k), (k, 0, oo))\n",
    "f"
   ]
  },
  {
   "cell_type": "code",
   "execution_count": 104,
   "metadata": {},
   "outputs": [
    {
     "data": {
      "image/png": "[encoded data removed]",
      "text/latex": [
       "$\\displaystyle \\left[ 1, \\  x, \\  \\frac{x^{2}}{2}, \\  \\frac{x^{3}}{6}, \\  \\frac{x^{4}}{24}\\right]$"
      ],
      "text/plain": [
       "⎡       2   3   4⎤\n",
       "⎢      x   x   x ⎥\n",
       "⎢1, x, ──, ──, ──⎥\n",
       "⎣      2   6   24⎦"
      ]
     },
     "execution_count": 104,
     "metadata": {},
     "output_type": "execute_result"
    }
   ],
   "source": [
    "x = symbols(\"x\")\n",
    "f = x**k / factorial(k)\n",
    "sum=[]\n",
    "for i in range(5):\n",
    "    sum.append(f.subs({k:i}))\n",
    "sum"
   ]
  },
  {
   "cell_type": "code",
   "execution_count": 98,
   "metadata": {},
   "outputs": [
    {
     "name": "stdout",
     "output_type": "stream",
     "text": [
      "0\t1.00000000000000\t1.71828182845905\n",
      "1\t2.00000000000000\t0.718281828459045\n",
      "2\t2.50000000000000\t0.218281828459045\n",
      "3\t2.66666666666667\t0.0516151617923786\n",
      "4\t2.70833333333333\t0.00994849512571190\n",
      "5\t2.71666666666667\t0.00161516179237857\n",
      "6\t2.71805555555556\t0.000226272903489680\n",
      "7\t2.71825396825397\t0.0000278602050769814\n",
      "8\t2.71827876984127\t0.00000305861777539409\n",
      "9\t2.71828152557319\t3.02885852995501E-7\n",
      "2.71828182845905\n"
     ]
    }
   ],
   "source": [
    "from sympy import E, N\n",
    "x = 1\n",
    "f = 0\n",
    "for i in range(10):\n",
    "    f += x**i / factorial(i)\n",
    "    err = abs(f - E)\n",
    "    print(f\"{i}\\t{N(f)}\\t{N(err)}\")\n",
    "print(N(E))"
   ]
  },
  {
   "cell_type": "markdown",
   "metadata": {},
   "source": [
    "Now, the cosine function.\n",
    "$$\n",
    "\\cos(x)=\\displaystyle \\sum_{k=0}^{\\infty} \\frac{\\left(-1\\right)^{k} x^{2 k}}{\\left(2 k\\right)!}\n",
    "$$"
   ]
  },
  {
   "cell_type": "code",
   "execution_count": 99,
   "metadata": {},
   "outputs": [
    {
     "data": {
      "image/png": "[encoded data removed]",
      "text/latex": [
       "$\\displaystyle \\sum_{k=0}^{\\infty} \\frac{\\left(-1\\right)^{k} x^{2 k}}{\\left(2 k\\right)!}$"
      ],
      "text/plain": [
       "  ∞             \n",
       " ____           \n",
       " ╲              \n",
       "  ╲       k  2⋅k\n",
       "   ╲  (-1) ⋅x   \n",
       "   ╱  ──────────\n",
       "  ╱     (2⋅k)!  \n",
       " ╱              \n",
       " ‾‾‾‾           \n",
       "k = 0           "
      ]
     },
     "execution_count": 99,
     "metadata": {},
     "output_type": "execute_result"
    }
   ],
   "source": [
    "x = symbols(\"x\")\n",
    "f = Sum((-1) ** (k) * x ** (2 * k) / factorial(2 * k), (k, 0, oo))\n",
    "f"
   ]
  },
  {
   "cell_type": "code",
   "execution_count": 100,
   "metadata": {},
   "outputs": [
    {
     "name": "stdout",
     "output_type": "stream",
     "text": [
      "0\t1.00000000000000\t1.00000000000000\n",
      "2\t-0.233700550136170\t0.233700550136170\n",
      "4\t0.0199689577648782\t0.0199689577648782\n",
      "6\t-0.000894522998474775\t0.000894522998474775\n",
      "8\t0.0000247372763646520\t0.0000247372763646520\n",
      "0\n"
     ]
    }
   ],
   "source": [
    "from sympy import pi, cos\n",
    "x = pi / 2\n",
    "f = 0\n",
    "for i in range(10):\n",
    "    if i % 2 == 0:\n",
    "        if i % 4 == 0:\n",
    "            f += x**i / factorial(i)\n",
    "        else:\n",
    "            f -= x**i / factorial(i)\n",
    "        err = abs(f - cos(x))\n",
    "        print(f\"{i}\\t{N(f)}\\t{N(err)}\")\n",
    "print(N(cos(x)))"
   ]
  },
  {
   "cell_type": "markdown",
   "metadata": {},
   "source": [
    "Likewise, the sine function.\n",
    "$$\n",
    "\\sin(x)=\\displaystyle \\sum_{k=0}^{\\infty} \\frac{\\left(-1\\right)^{k} x^{2 k + 1}}{\\left(2 k + 1\\right)!}\n",
    "$$"
   ]
  },
  {
   "cell_type": "code",
   "execution_count": 101,
   "metadata": {},
   "outputs": [
    {
     "data": {
      "image/png": "[encoded data removed]",
      "text/latex": [
       "$\\displaystyle \\sum_{k=0}^{\\infty} \\frac{\\left(-1\\right)^{k} x^{2 k + 1}}{\\left(2 k + 1\\right)!}$"
      ],
      "text/plain": [
       "  ∞                 \n",
       " ____               \n",
       " ╲                  \n",
       "  ╲       k  2⋅k + 1\n",
       "   ╲  (-1) ⋅x       \n",
       "   ╱  ──────────────\n",
       "  ╱     (2⋅k + 1)!  \n",
       " ╱                  \n",
       " ‾‾‾‾               \n",
       "k = 0               "
      ]
     },
     "execution_count": 101,
     "metadata": {},
     "output_type": "execute_result"
    }
   ],
   "source": [
    "x = symbols(\"x\")\n",
    "f = Sum((-1) ** (k) * x ** (2 * k + 1) / factorial(2 * k + 1), (k, 0, oo))\n",
    "f"
   ]
  },
  {
   "cell_type": "code",
   "execution_count": 102,
   "metadata": {},
   "outputs": [
    {
     "name": "stdout",
     "output_type": "stream",
     "text": [
      "0\t0\t1.00000000000000\n",
      "1\t1.57079632679490\t0.570796326794897\n",
      "2\t1.57079632679490\t0.570796326794897\n",
      "3\t0.924832229288650\t0.0751677707113496\n",
      "4\t0.924832229288650\t0.0751677707113496\n",
      "5\t1.00452485553482\t0.00452485553481741\n",
      "6\t1.00452485553482\t0.00452485553481741\n",
      "7\t0.999843101399499\t0.000156898600501277\n",
      "8\t0.999843101399499\t0.000156898600501277\n",
      "9\t1.00000354258429\t0.00000354258428608242\n",
      "1.00000000000000\n"
     ]
    }
   ],
   "source": [
    "from sympy import sin\n",
    "x = pi / 2\n",
    "f = 0\n",
    "for i in range(10):\n",
    "    if i % 4 == 1:\n",
    "        f += x**i / factorial(i)\n",
    "    elif i % 4 == 3:\n",
    "        f -= x**i / factorial(i)\n",
    "    err = abs(f - sin(x))\n",
    "    print(f\"{i}\\t{N(f)}\\t{N(err)}\")\n",
    "print(N(sin(x)))"
   ]
  }
 ],
 "metadata": {
  "kernelspec": {
   "display_name": "Python 3",
   "language": "python",
   "name": "python3"
  },
  "language_info": {
   "codemirror_mode": {
    "name": "ipython",
    "version": 3
   },
   "file_extension": ".py",
   "mimetype": "text/x-python",
   "name": "python",
   "nbconvert_exporter": "python",
   "pygments_lexer": "ipython3",
   "version": "3.11.5"
  }
 },
 "nbformat": 4,
 "nbformat_minor": 2
}
